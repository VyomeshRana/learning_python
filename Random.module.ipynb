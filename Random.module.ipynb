{
 "cells": [
  {
   "attachments": {},
   "cell_type": "markdown",
   "metadata": {},
   "source": [
    "# Generate Random Numbers\n",
    "First, import your random module. The name of the package in Python is... random:"
   ]
  },
  {
   "cell_type": "code",
   "execution_count": 2,
   "metadata": {},
   "outputs": [],
   "source": [
    "import random"
   ]
  },
  {
   "attachments": {},
   "cell_type": "markdown",
   "metadata": {},
   "source": [
    "The basic function for generating random numbers is called... random() as well (how original!). It will generate a random float between 0 and 1 (not including 0 or 1). Let's try a simple example by displaying three random numbers:"
   ]
  },
  {
   "cell_type": "code",
   "execution_count": 3,
   "metadata": {},
   "outputs": [
    {
     "name": "stdout",
     "output_type": "stream",
     "text": [
      "0.5729500072814799\n",
      "0.7205167538601098\n",
      "0.7872922564638666\n",
      "0.7152171907740559\n",
      "0.7056851684634567\n"
     ]
    }
   ],
   "source": [
    "for i in range(5):\n",
    "    print(random.random())"
   ]
  },
  {
   "attachments": {},
   "cell_type": "markdown",
   "metadata": {},
   "source": [
    "Of course, if you run the same code at home, you will get different results (that’s the nature of randomness)!\n",
    "\n",
    "But only having a number between 0 and 1 is a bit limited... isn't it?\n",
    "\n",
    "Absolutely! But the people who created the random package fortunately thought of everything. There are other functions that let you generate a random number in a given range:\n",
    "\n",
    "* ``uniform(a, b)`` : will generate a random float between   a  and  b .\n",
    "* ``randint(a, b)`` : as its name suggests, this one is similar to   uniform  except that the random number generated is an integer this time!"
   ]
  },
  {
   "cell_type": "code",
   "execution_count": 4,
   "metadata": {},
   "outputs": [
    {
     "name": "stdout",
     "output_type": "stream",
     "text": [
      "Example of uniform function\n",
      "5.727571564490112\n",
      "9.524537332629908\n",
      "9.380977096100855\n",
      "---------------------------------\n",
      "Example of randint function\n",
      "10\n",
      "5\n",
      "9\n"
     ]
    }
   ],
   "source": [
    "print(\"Example of uniform function\")\n",
    "for i in range(3):\n",
    "    print(random.uniform(5, 10))                # the result will have float\n",
    "print('---------------------------------')\n",
    "print(\"Example of randint function\")\n",
    "for i in range(3):\n",
    "    print(random.randint(5, 10))                # the result will have integer"
   ]
  },
  {
   "attachments": {},
   "cell_type": "markdown",
   "metadata": {},
   "source": [
    "#### Generate a Random Number According to a Given Distribution\n",
    "The random module can also generate a random number according to a distribution. One of the best known is the Gaussian (or normal) distribution. If you don't know it already, let me introduce you to it!\n",
    "\n",
    "The normal law is one of the most suitable probability laws to model natural phenomena resulting from several random events. These are all phenomena where the majority of individuals are around an average, with decreasing proportions below and above this average. Here is a very telling example, with the distribution of the population by IQ:\n",
    "\n"
   ]
  },
  {
   "attachments": {},
   "cell_type": "markdown",
   "metadata": {},
   "source": [
    "![link](https://user.oc-static.com/upload/2022/09/19/1663594647031_image19.png)"
   ]
  },
  {
   "cell_type": "markdown",
   "metadata": {},
   "source": [
    "The random module lets you generate random numbers according to this law: i.e., you are much more likely to have values close to the average (with the example above, between 85 and 115) than extreme values (close to 70 or 130). The corresponding function is called   gauss(mean, standard_deviation) .\n",
    "\n",
    "Here is an example with a distribution centered at 0 and with a standard deviation of 1 (which is a “conventional” normal distribution):"
   ]
  },
  {
   "cell_type": "code",
   "execution_count": 5,
   "metadata": {},
   "outputs": [
    {
     "name": "stdout",
     "output_type": "stream",
     "text": [
      "0.7343700536149299\n",
      "-0.5826654642836434\n",
      "0.6386711096693649\n",
      "1.4218895794146\n",
      "1.06337445802297\n",
      "-0.3222909902765553\n",
      "-0.7665787470311471\n",
      "2.102623394237238\n",
      "-0.41157942894009497\n",
      "-0.9639491390619983\n"
     ]
    }
   ],
   "source": [
    "for i in range(10):\n",
    "    print(random.gauss(0, 1))\n",
    "# We can see here, with 10 values, that the majority of the values are close to 0."
   ]
  },
  {
   "attachments": {},
   "cell_type": "markdown",
   "metadata": {},
   "source": [
    "## Choose Randomly From a List: Subsampling\n",
    "As you already know, to select an item in a list, you have to select it via its index. If you want to select an item randomly from a list, a somewhat naive solution might be to draw the index randomly, and then use the random index to select the item. The random module goes a step further by offering a function that lets you make the selection directly from the list: the    ``choice``  function."
   ]
  },
  {
   "cell_type": "code",
   "execution_count": 9,
   "metadata": {},
   "outputs": [
    {
     "name": "stdout",
     "output_type": "stream",
     "text": [
      "one\n",
      "there\n",
      "there\n"
     ]
    }
   ],
   "source": [
    "list1 = ['one', 'two', 'there', 'four', 'five']\n",
    "for i in range(3):\n",
    "    print(random.choice(list1))"
   ]
  },
  {
   "attachments": {},
   "cell_type": "markdown",
   "metadata": {},
   "source": [
    "The evolution of this is the  choices  function, now making it possible to select a sample from the initial list, with replacement:"
   ]
  },
  {
   "cell_type": "code",
   "execution_count": 12,
   "metadata": {},
   "outputs": [
    {
     "name": "stdout",
     "output_type": "stream",
     "text": [
      "['two', 'two']\n",
      "----------------------------\n",
      "['five', 'there', 'one']\n"
     ]
    }
   ],
   "source": [
    "print(random.choices(list1, k = 2))\n",
    "print('----------------------------')\n",
    "print(random.choices(list1, k = 3))"
   ]
  },
  {
   "attachments": {},
   "cell_type": "markdown",
   "metadata": {},
   "source": [
    "Note how, in the second line, we get “two” returned twice, because the first “two” was effectively put back into the list once it was initially drawn.\n",
    "\n",
    "This is called __subsampling__. The corresponding function, for a sample __without replacement__, is ``sample`` :"
   ]
  },
  {
   "cell_type": "code",
   "execution_count": 13,
   "metadata": {},
   "outputs": [
    {
     "name": "stdout",
     "output_type": "stream",
     "text": [
      "['five', 'there']\n",
      "['five', 'two', 'one']\n"
     ]
    }
   ],
   "source": [
    "print(random.sample(list1, 2))\n",
    "print(random.sample(list1, 3))"
   ]
  },
  {
   "attachments": {},
   "cell_type": "markdown",
   "metadata": {},
   "source": [
    "In data analysis, this concept of subsampling is essential, as it can select a sample from an initial population. In statistics, a sample is a set of individuals representative of a population. The use of a subsample is generally a solution to a practical constraint (lack of time, space, financial cost, etc.) that does not allow an exhaustive study of the entire population."
   ]
  },
  {
   "cell_type": "code",
   "execution_count": 24,
   "metadata": {},
   "outputs": [
    {
     "data": {
      "text/plain": [
       "10.503629890646858"
      ]
     },
     "execution_count": 24,
     "metadata": {},
     "output_type": "execute_result"
    }
   ],
   "source": [
    "n= random.random(10,19)\n",
    "n"
   ]
  },
  {
   "cell_type": "code",
   "execution_count": 25,
   "metadata": {},
   "outputs": [],
   "source": [
    "# range(p) produces a sequence of integers from 0 to p-1\n",
    "population = range(1000) \n",
    "\n",
    "# of tickets desired \n",
    "N = 10"
   ]
  },
  {
   "cell_type": "code",
   "execution_count": 27,
   "metadata": {},
   "outputs": [
    {
     "data": {
      "text/plain": [
       "[493, 826, 43, 422, 711, 217, 897, 895, 996, 138]"
      ]
     },
     "execution_count": 27,
     "metadata": {},
     "output_type": "execute_result"
    }
   ],
   "source": [
    "random.sample(population, N)"
   ]
  },
  {
   "cell_type": "code",
   "execution_count": 32,
   "metadata": {},
   "outputs": [
    {
     "data": {
      "text/plain": [
       "0.07118705116848534"
      ]
     },
     "execution_count": 32,
     "metadata": {},
     "output_type": "execute_result"
    }
   ],
   "source": [
    "x = random.random()\n",
    "x"
   ]
  }
 ],
 "metadata": {
  "kernelspec": {
   "display_name": "da__python",
   "language": "python",
   "name": "python3"
  },
  "language_info": {
   "codemirror_mode": {
    "name": "ipython",
    "version": 3
   },
   "file_extension": ".py",
   "mimetype": "text/x-python",
   "name": "python",
   "nbconvert_exporter": "python",
   "pygments_lexer": "ipython3",
   "version": "3.10.8 | packaged by conda-forge | (main, Nov 24 2022, 14:07:00) [MSC v.1916 64 bit (AMD64)]"
  },
  "orig_nbformat": 4,
  "vscode": {
   "interpreter": {
    "hash": "1ec6bcace37bdd7e14f505cb94efc19bd6dab1b7796faee9423b822453053c09"
   }
  }
 },
 "nbformat": 4,
 "nbformat_minor": 2
}
