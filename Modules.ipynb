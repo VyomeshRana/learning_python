{
 "cells": [
  {
   "attachments": {},
   "cell_type": "markdown",
   "metadata": {},
   "source": [
    "## A Module in Python\n",
    "A module is a Python file containing a set of predefined and operational functions, classes, and variables, which you can use as you wish in your code!\n",
    "\n",
    "For example, if you are working on a problem involving geometry, you might need:\n",
    "\n",
    "* classes:\n",
    "\n",
    "    * Square—defined by the length of its side\n",
    "    * Triangle—defined by the length of its three sides\n",
    "    * Circle—defined by its radius\n",
    "    * Etc.\n",
    "* variables:\n",
    "\n",
    "    * Pi: constant necessary for calculating the area of a circle, equal to 3.1415...\n",
    "    * Phi: constant that represents the golden ratio, equal to 1.6180...\n",
    "* functions:\n",
    "\n",
    "    * Area: takes as parameter a geometrical object (square, triangle, etc.) and calculates its area\n",
    "    * Angles: takes a triangle as a parameter, and calculates its internal angles\n",
    "    * Etc.\n",
    "\n",
    "You can of course define all these things in your notebook, but that would only make it more cumbersome. The best is to store all this in an external Python file, which you will then import into your notebook: it's a module!"
   ]
  },
  {
   "attachments": {},
   "cell_type": "markdown",
   "metadata": {},
   "source": [
    "![link](https://user.oc-static.com/upload/2022/10/10/16653867823027_P4C1-1.png)"
   ]
  },
  {
   "attachments": {},
   "cell_type": "markdown",
   "metadata": {},
   "source": [
    "example of a geometry module:\n",
    "To import a module, you will need the  ``import``  keyword. Here is an example with our geometry module:"
   ]
  },
  {
   "cell_type": "code",
   "execution_count": 2,
   "metadata": {},
   "outputs": [],
   "source": [
    "'''\n",
    "Module geometry.py\n",
    "'''\n",
    "# variables\n",
    "pi = 3.14159265359\n",
    "phi = 1.6180\n",
    "\n",
    "# function that calculates the area\n",
    "def area(obj):\n",
    "    if type(obj) == square:\n",
    "        return obj.a**2\n",
    "\n",
    "# definitions of some classes\n",
    "class square(object):\n",
    "    def __init__(self,a):\n",
    "        self.a = a\n",
    "\n",
    "class triangle(object):\n",
    "    def __init__(self,a,b,c):\n",
    "        self.a = a\n",
    "        self.b = b\n",
    "        self.c = c"
   ]
  },
  {
   "cell_type": "code",
   "execution_count": null,
   "metadata": {},
   "outputs": [],
   "source": [
    "squa = geometry.square(4)\n",
    "tri = geometry.triangle(3, 6, 5)\n",
    "\n",
    "print(geometry.pi) # -> 3.14159265359\n",
    "\n",
    "geometry.area(squa) # -> 16"
   ]
  },
  {
   "attachments": {},
   "cell_type": "markdown",
   "metadata": {},
   "source": [
    "### When a Module is Not Enough: Packages\n",
    "A package (sometimes called a library) is a collection, a set of Python modules. As you have seen above, a module is a Python file. A package is simply a folder containing several Python files (.py) and an additional file named   __init__.py. This differentiates a package from an ordinary folder containing only Python codes.\n",
    "\n",
    "For example, you could have stored your geometry module in three different files instead of just one:\n",
    "\n",
    "* One for classes: classes.py\n",
    "* One for variables: variables.py\n",
    "* One for functions: functions.py\n",
    "\n",
    "ex- numpy"
   ]
  },
  {
   "cell_type": "code",
   "execution_count": 4,
   "metadata": {},
   "outputs": [
    {
     "data": {
      "text/plain": [
       "4.0"
      ]
     },
     "execution_count": 4,
     "metadata": {},
     "output_type": "execute_result"
    }
   ],
   "source": [
    "import numpy as np\n",
    "np.sqrt(16)   # sqrt gives the square root "
   ]
  },
  {
   "attachments": {},
   "cell_type": "markdown",
   "metadata": {},
   "source": [
    "Let's Recap\n",
    "In this chapter, together we have seen the basics of using modules and packages:\n",
    "\n",
    "* A module is a file containing Python code (.py extension) that can define functions, classes, and/or variables.\n",
    "* You can import any Python module via the import keyword.\n",
    "* To use a function class or a variable within a module, you must use the  .  operator.\n",
    "* A package is a set of several Python modules.\n",
    "* There are many packages specifically created for data analysis."
   ]
  }
 ],
 "metadata": {
  "kernelspec": {
   "display_name": "da__python",
   "language": "python",
   "name": "python3"
  },
  "language_info": {
   "codemirror_mode": {
    "name": "ipython",
    "version": 3
   },
   "file_extension": ".py",
   "mimetype": "text/x-python",
   "name": "python",
   "nbconvert_exporter": "python",
   "pygments_lexer": "ipython3",
   "version": "3.10.8 | packaged by conda-forge | (main, Nov 24 2022, 14:07:00) [MSC v.1916 64 bit (AMD64)]"
  },
  "orig_nbformat": 4,
  "vscode": {
   "interpreter": {
    "hash": "1ec6bcace37bdd7e14f505cb94efc19bd6dab1b7796faee9423b822453053c09"
   }
  }
 },
 "nbformat": 4,
 "nbformat_minor": 2
}
