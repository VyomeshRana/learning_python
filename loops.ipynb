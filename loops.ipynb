{
 "cells": [
  {
   "attachments": {},
   "cell_type": "markdown",
   "metadata": {},
   "source": [
    "# The for Loop on a Collection\n",
    "The conventional use of loops in Python is to directly use the different values of a collection. Here is an example with a list:"
   ]
  },
  {
   "cell_type": "code",
   "execution_count": 1,
   "metadata": {},
   "outputs": [
    {
     "name": "stdout",
     "output_type": "stream",
     "text": [
      "4\n",
      "7\n",
      "9\n",
      "10\n"
     ]
    }
   ],
   "source": [
    "mylist = [4, 7, 9, 10]\n",
    "\n",
    "for i in mylist:\n",
    "    print(i)"
   ]
  },
  {
   "attachments": {},
   "cell_type": "markdown",
   "metadata": {},
   "source": [
    "The printed result corresponds to each item in the list taken one by one. Let's take a detailed look at what has been achieved in the above code:\n",
    "\n",
    "* You have created a list:   myList, containing four items: 7, 2, 4, and 10.\n",
    "* The loop will store the first value of the list (in this case 7) in the   i  variable.\n",
    "* Then, the whole block of code associated with the for loop (defined via indentation... again!) is run with   elt  holding the first value. Here, this block just involves printing   i.\n",
    "* Once this is done,   elt  will take the second value of the list (in this case 2) and the block of code is re-run.\n",
    "* The loop will continue until all the values in your list have been stored in the    elt  variable and the statements for the loop have been executed for each of them."
   ]
  },
  {
   "attachments": {},
   "cell_type": "markdown",
   "metadata": {},
   "source": [
    "Here is a diagram to understand the Python logic behind the loop:"
   ]
  },
  {
   "attachments": {},
   "cell_type": "markdown",
   "metadata": {},
   "source": [
    "![image](https://user.oc-static.com/upload/2022/10/10/16653866064087_P3C1-1.png)\n"
   ]
  },
  {
   "attachments": {},
   "cell_type": "markdown",
   "metadata": {},
   "source": [
    "You can also iterate via a string! Remember that strings are also known as \"character strings\" because they represent a collection of characters, similar to a list."
   ]
  },
  {
   "cell_type": "code",
   "execution_count": 16,
   "metadata": {},
   "outputs": [
    {
     "name": "stdout",
     "output_type": "stream",
     "text": [
      "h?\n",
      "e?\n",
      "l?\n",
      "l?\n",
      "o?\n"
     ]
    }
   ],
   "source": [
    "my_String = [\"h\", \"e\",\"l\",\"l\",\"o\"]\n",
    "\n",
    "for i in my_String:\n",
    "    print(i+\"?\")"
   ]
  },
  {
   "cell_type": "code",
   "execution_count": 18,
   "metadata": {},
   "outputs": [
    {
     "name": "stdout",
     "output_type": "stream",
     "text": [
      "0\n",
      "1\n",
      "2\n",
      "3\n",
      "4\n"
     ]
    }
   ],
   "source": [
    "for i in range(0, 5, 1):\n",
    "    print(i)"
   ]
  },
  {
   "cell_type": "code",
   "execution_count": 19,
   "metadata": {},
   "outputs": [
    {
     "name": "stdout",
     "output_type": "stream",
     "text": [
      "0\n",
      "1\n",
      "2\n",
      "3\n",
      "4\n"
     ]
    }
   ],
   "source": [
    "for i in range(0, 5):\n",
    "    print(i)"
   ]
  },
  {
   "cell_type": "code",
   "execution_count": 21,
   "metadata": {},
   "outputs": [
    {
     "name": "stdout",
     "output_type": "stream",
     "text": [
      "0\n",
      "1\n",
      "2\n",
      "3\n",
      "4\n"
     ]
    }
   ],
   "source": [
    "for i in range(5):\n",
    "    print(i)"
   ]
  },
  {
   "cell_type": "code",
   "execution_count": 23,
   "metadata": {},
   "outputs": [
    {
     "name": "stdout",
     "output_type": "stream",
     "text": [
      "0\n",
      "2\n",
      "4\n"
     ]
    }
   ],
   "source": [
    "for i in range(0, 5, 2):\n",
    "    print(i)"
   ]
  },
  {
   "attachments": {},
   "cell_type": "markdown",
   "metadata": {},
   "source": [
    "## Loop According to a Condition with the while Loop: \n",
    "The conditional loop is the while loop in Python.\n",
    "\n",
    "As its name implies, the while loop will run as long as a condition is met. It is a kind of combination of a for loop and an if structure. The number of repetitions is not defined in advance, but via a condition to be fulfilled, as with an if. This is called a conditional loop."
   ]
  },
  {
   "attachments": {},
   "cell_type": "markdown",
   "metadata": {},
   "source": [
    "It can be interpreted as: as long as my logical expression is true, run the statement block.\n",
    "\n",
    "Here's how it works:\n",
    "\n",
    "* The program checks that   expressionLogic  is equal to   True.\n",
    "\n",
    "* If this is the case, the indented statements following the   :   are run. Once this is done, we return to step one.\n",
    "\n",
    "* Otherwise, the program exits the loop without running the statements."
   ]
  },
  {
   "cell_type": "code",
   "execution_count": 24,
   "metadata": {},
   "outputs": [
    {
     "name": "stdout",
     "output_type": "stream",
     "text": [
      "I planted 1 trees\n",
      "I planted 2 trees\n",
      "I planted 3 trees\n",
      "I planted 4 trees\n",
      "I planted 5 trees\n",
      "I planted 6 trees\n",
      "I planted 7 trees\n",
      "I planted 8 trees\n",
      "I planted 9 trees\n",
      "I planted 10 trees\n",
      "I have a nice Forest\n"
     ]
    }
   ],
   "source": [
    "number_tree = 0\n",
    "\n",
    "while number_tree < 10:\n",
    "    number_tree += 1\n",
    "    print(\"I planted\", number_tree, \"trees\")\n",
    "\n",
    "print(\"I have a nice Forest\")"
   ]
  },
  {
   "attachments": {},
   "cell_type": "markdown",
   "metadata": {},
   "source": [
    "❗️ It is essential to keep in mind that a misused while loop can crash your program! ☠️ While the condition is still true, the program remains stuck in a loop. If the condition never becomes false, the program will never exit the loop.  We are in what is called, in programming, an infinite loop."
   ]
  },
  {
   "cell_type": "code",
   "execution_count": 25,
   "metadata": {},
   "outputs": [
    {
     "name": "stdout",
     "output_type": "stream",
     "text": [
      "I am eating a cookie!\n",
      "I am eating a cookie!\n",
      "I am eating a cookie!\n",
      "I am eating a cookie!\n",
      "I am eating a cookie!\n",
      "I am eating a cookie!\n",
      "I am eating a cookie!\n",
      "I am eating a cookie!\n",
      "I am eating a cookie!\n",
      "I am eating a cookie!\n"
     ]
    }
   ],
   "source": [
    "cookies = 10\n",
    "while cookies > 0:\n",
    "    print(\"I am eating a cookie!\")\n",
    "    cookies = cookies -1\n",
    "    "
   ]
  },
  {
   "attachments": {},
   "cell_type": "markdown",
   "metadata": {},
   "source": [
    "### Skip Some Statements Within Your Loop\n",
    "Regardless of the type of loop, there will be situations where you will want to skip some of the iterations within your loop, or even terminate the loop prematurely.\n",
    "\n",
    "For example, you want to repeat something 10 times, but skip (at least partially) when the value is 2 or 5. In Python, to force the start of the next loop iteration, use the keyword ``continue``:"
   ]
  },
  {
   "cell_type": "code",
   "execution_count": 30,
   "metadata": {},
   "outputs": [
    {
     "name": "stdout",
     "output_type": "stream",
     "text": [
      "0\n",
      "1\n",
      "2\n",
      "Special case\n",
      "3\n",
      "4\n",
      "5\n",
      "Special case\n",
      "6\n",
      "7\n",
      "8\n",
      "9\n",
      "True\n"
     ]
    }
   ],
   "source": [
    "for i in range(10):\n",
    "    print(i)\n",
    "    if (i == 2) or (i == 5):\n",
    "        print(\"Special case\")\n",
    "        continue"
   ]
  },
  {
   "attachments": {},
   "cell_type": "markdown",
   "metadata": {},
   "source": [
    "You can also decide to interrupt the loop, for example when looking for a particular item in a list. For this, you will use the   ``break``  keyword."
   ]
  },
  {
   "cell_type": "code",
   "execution_count": 31,
   "metadata": {},
   "outputs": [
    {
     "name": "stdout",
     "output_type": "stream",
     "text": [
      "I have an banana\n"
     ]
    }
   ],
   "source": [
    "basket = [\"apple\", \"banana\", \"orange\"]\n",
    "\n",
    "for fruit in basket:\n",
    "    if fruit == \"banana\":\n",
    "        print(\"I have an banana\")\n",
    "        break"
   ]
  },
  {
   "cell_type": "code",
   "execution_count": 32,
   "metadata": {},
   "outputs": [
    {
     "name": "stdout",
     "output_type": "stream",
     "text": [
      "1\n",
      "2\n",
      "4\n"
     ]
    }
   ],
   "source": [
    "if 'bar' in {'foo': 1, 'bar': 2, 'baz': 3}:\n",
    "   print(1)\n",
    "   print(2)\n",
    "   if 'a' in 'qux':\n",
    "      print(3)\n",
    "print(4)"
   ]
  },
  {
   "cell_type": "code",
   "execution_count": 33,
   "metadata": {},
   "outputs": [
    {
     "name": "stdout",
     "output_type": "stream",
     "text": [
      "corge\n",
      "qux\n",
      "baz\n",
      "Done.\n"
     ]
    }
   ],
   "source": [
    "a = ['foo', 'bar', 'baz', 'qux', 'corge']\n",
    " \n",
    "while a:\n",
    "   if len(a) < 3:\n",
    "      break\n",
    "   print(a.pop())\n",
    "print('Done.')"
   ]
  }
 ],
 "metadata": {
  "kernelspec": {
   "display_name": "da__python",
   "language": "python",
   "name": "python3"
  },
  "language_info": {
   "codemirror_mode": {
    "name": "ipython",
    "version": 3
   },
   "file_extension": ".py",
   "mimetype": "text/x-python",
   "name": "python",
   "nbconvert_exporter": "python",
   "pygments_lexer": "ipython3",
   "version": "3.10.8 | packaged by conda-forge | (main, Nov 24 2022, 14:07:00) [MSC v.1916 64 bit (AMD64)]"
  },
  "orig_nbformat": 4,
  "vscode": {
   "interpreter": {
    "hash": "1ec6bcace37bdd7e14f505cb94efc19bd6dab1b7796faee9423b822453053c09"
   }
  }
 },
 "nbformat": 4,
 "nbformat_minor": 2
}
